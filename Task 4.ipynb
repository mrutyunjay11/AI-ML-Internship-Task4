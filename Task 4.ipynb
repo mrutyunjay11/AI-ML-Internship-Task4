{
 "cells": [
  {
   "cell_type": "markdown",
   "id": "cc46c775-6c5e-4c3e-a4ec-620b212b7710",
   "metadata": {},
   "source": [
    "# Task 4 - Logistic Regression (AI & ML Internship)\n",
    "# Author: Mrutyunjay Joshi"
   ]
  },
  {
   "cell_type": "markdown",
   "id": "fee5aa43",
   "metadata": {},
   "source": [
    "# Step 1: Import the library which we want to use in it"
   ]
  },
  {
   "cell_type": "code",
   "execution_count": null,
   "id": "4147e986-5caf-4180-aa03-95286a0fb6e1",
   "metadata": {},
   "outputs": [],
   "source": [
    "try:\n",
    "    import pandas as pd\n",
    "    import numpy as np\n",
    "    import matplotlib.pyplot as plt\n",
    "    from sklearn.model_selection import train_test_split\n",
    "    from sklearn.preprocessing import StandardScaler\n",
    "    from sklearn.linear_model import LogisticRegression\n",
    "    from sklearn.metrics import (\n",
    "        confusion_matrix,\n",
    "        classification_report,\n",
    "        accuracy_score,\n",
    "        roc_curve,\n",
    "        auc\n",
    "    )\n",
    "except Exception as e:\n",
    "    print(e)"
   ]
  },
  {
   "cell_type": "markdown",
   "id": "d2763fde",
   "metadata": {},
   "source": [
    "# Step 2: Load Dataset from the\n",
    "# Dataset link: https://www.kaggle.com/datasets/uciml/breast-cancer-wisconsin-data"
   ]
  },
  {
   "cell_type": "code",
   "execution_count": null,
   "id": "ff328e75-bf5c-412b-9e63-d581c28207d6",
   "metadata": {},
   "outputs": [
    {
     "name": "stdout",
     "output_type": "stream",
     "text": [
      "         id diagnosis  radius_mean  texture_mean  perimeter_mean  area_mean  \\\n",
      "0    842302         M        17.99         10.38          122.80     1001.0   \n",
      "1    842517         M        20.57         17.77          132.90     1326.0   \n",
      "2  84300903         M        19.69         21.25          130.00     1203.0   \n",
      "3  84348301         M        11.42         20.38           77.58      386.1   \n",
      "4  84358402         M        20.29         14.34          135.10     1297.0   \n",
      "\n",
      "   smoothness_mean  compactness_mean  concavity_mean  concave points_mean  \\\n",
      "0          0.11840           0.27760          0.3001              0.14710   \n",
      "1          0.08474           0.07864          0.0869              0.07017   \n",
      "2          0.10960           0.15990          0.1974              0.12790   \n",
      "3          0.14250           0.28390          0.2414              0.10520   \n",
      "4          0.10030           0.13280          0.1980              0.10430   \n",
      "\n",
      "   ...  texture_worst  perimeter_worst  area_worst  smoothness_worst  \\\n",
      "0  ...          17.33           184.60      2019.0            0.1622   \n",
      "1  ...          23.41           158.80      1956.0            0.1238   \n",
      "2  ...          25.53           152.50      1709.0            0.1444   \n",
      "3  ...          26.50            98.87       567.7            0.2098   \n",
      "4  ...          16.67           152.20      1575.0            0.1374   \n",
      "\n",
      "   compactness_worst  concavity_worst  concave points_worst  symmetry_worst  \\\n",
      "0             0.6656           0.7119                0.2654          0.4601   \n",
      "1             0.1866           0.2416                0.1860          0.2750   \n",
      "2             0.4245           0.4504                0.2430          0.3613   \n",
      "3             0.8663           0.6869                0.2575          0.6638   \n",
      "4             0.2050           0.4000                0.1625          0.2364   \n",
      "\n",
      "   fractal_dimension_worst  Unnamed: 32  \n",
      "0                  0.11890          NaN  \n",
      "1                  0.08902          NaN  \n",
      "2                  0.08758          NaN  \n",
      "3                  0.17300          NaN  \n",
      "4                  0.07678          NaN  \n",
      "\n",
      "[5 rows x 33 columns]\n",
      "\n",
      "Shape of Dataset: (569, 33)\n"
     ]
    }
   ],
   "source": [
    "try:\n",
    "    \n",
    "    df = pd.read_csv(\"data.csv\")\n",
    "\n",
    "    # Display dataset first five rows by head function\n",
    "    print(df.head())\n",
    "    # Display the shap of the dataset\n",
    "    print(\"\\nShape of Dataset:\", df.shape)\n",
    "\n",
    "    # Drop unnecessary columns from the dataset\n",
    "    df = df.drop(['id', 'Unnamed: 32'], axis=1)\n",
    "\n",
    "    # Encode target variable (M=1, B=0) from the dataset\n",
    "    df['diagnosis'] = df['diagnosis'].map({'M': 1, 'B': 0})\n",
    "except Exception as e:\n",
    "    print(e)"
   ]
  },
  {
   "cell_type": "markdown",
   "id": "9fbb8e76",
   "metadata": {},
   "source": [
    "# Step 3: Split Features and Target from the dataset"
   ]
  },
  {
   "cell_type": "code",
   "execution_count": null,
   "id": "b60201e7-7ddf-45e9-8f68-6be7ce5898a2",
   "metadata": {},
   "outputs": [],
   "source": [
    "try:\n",
    "    \n",
    "\n",
    "    X = df.drop('diagnosis', axis=1)\n",
    "    y = df['diagnosis']\n",
    "\n",
    "    # Split data (80% training, 20% testing) for to train our model\n",
    "    X_train, X_test, y_train, y_test = train_test_split(X, y, test_size=0.2, random_state=42)\n",
    "except Exception as e:\n",
    "    print(e)"
   ]
  },
  {
   "cell_type": "markdown",
   "id": "88e2f494",
   "metadata": {},
   "source": [
    "# Step 4: Standardize the Data of the dataset which we use to train our model"
   ]
  },
  {
   "cell_type": "code",
   "execution_count": null,
   "id": "6afcab67-202b-473b-9ae0-de3ebb138935",
   "metadata": {},
   "outputs": [],
   "source": [
    "try:\n",
    "    \n",
    "\n",
    "    scaler = StandardScaler()\n",
    "    X_train_scaled = scaler.fit_transform(X_train)\n",
    "    X_test_scaled = scaler.transform(X_test)\n",
    "except Exception as e:\n",
    "    print(e)\n"
   ]
  },
  {
   "cell_type": "markdown",
   "id": "1e012c8e",
   "metadata": {},
   "source": [
    "# Step 5: Train Logistic Regression Model from our filter data from the dataset"
   ]
  },
  {
   "cell_type": "code",
   "execution_count": null,
   "id": "adb6cc1a-aeee-4384-9a4f-e89f6f0b8fba",
   "metadata": {},
   "outputs": [],
   "source": [
    "try:\n",
    "    \n",
    "\n",
    "    model = LogisticRegression(random_state=42)\n",
    "    model.fit(X_train_scaled, y_train)\n",
    "\n",
    "except Exception as e:\n",
    "    print(e)\n"
   ]
  },
  {
   "cell_type": "markdown",
   "id": "82ea9dec",
   "metadata": {},
   "source": [
    "# Step 6: Make Predictions from the our train model by our filter dataset"
   ]
  },
  {
   "cell_type": "code",
   "execution_count": null,
   "id": "b348bda7-be7c-4fdf-80a3-e6157540c7d1",
   "metadata": {},
   "outputs": [],
   "source": [
    "try:\n",
    "    \n",
    "\n",
    "    y_pred = model.predict(X_test_scaled)\n",
    "    y_prob = model.predict_proba(X_test_scaled)[:, 1]\n",
    "\n",
    "except Exception as e:\n",
    "    print(e)\n"
   ]
  },
  {
   "cell_type": "markdown",
   "id": "a478be0a",
   "metadata": {},
   "source": [
    "# Step 7: Model Evaluation means how it is accurate to pridict the right answer "
   ]
  },
  {
   "cell_type": "code",
   "execution_count": null,
   "id": "5bb64236-8c53-4eed-b29a-ca2d10d7186c",
   "metadata": {},
   "outputs": [
    {
     "name": "stdout",
     "output_type": "stream",
     "text": [
      "\n",
      "Confusion Matrix:\n",
      " [[70  1]\n",
      " [ 2 41]]\n",
      "\n",
      "Classification Report:\n",
      "               precision    recall  f1-score   support\n",
      "\n",
      "           0       0.97      0.99      0.98        71\n",
      "           1       0.98      0.95      0.96        43\n",
      "\n",
      "    accuracy                           0.97       114\n",
      "   macro avg       0.97      0.97      0.97       114\n",
      "weighted avg       0.97      0.97      0.97       114\n",
      "\n",
      "\n",
      "Accuracy Score: 0.9737\n"
     ]
    }
   ],
   "source": [
    "try:\n",
    "    \n",
    "\n",
    "    cm = confusion_matrix(y_test, y_pred)\n",
    "    print(\"\\nConfusion Matrix:\\n\", cm)\n",
    "    print(\"\\nClassification Report:\\n\", classification_report(y_test, y_pred))\n",
    "    print(\"\\nAccuracy Score:\", round(accuracy_score(y_test, y_pred), 4))\n",
    "except Exception as e:\n",
    "    print(e)\n"
   ]
  },
  {
   "cell_type": "markdown",
   "id": "cf358d6a",
   "metadata": {},
   "source": [
    "# Step 8: ROC-AUC Curve "
   ]
  },
  {
   "cell_type": "code",
   "execution_count": null,
   "id": "4061ea23-f33f-4955-8a1b-cff718286b2f",
   "metadata": {},
   "outputs": [
    {
     "data": {
      "image/png": "[encoded data removed]",
      "text/plain": [
       "<Figure size 600x500 with 1 Axes>"
      ]
     },
     "metadata": {},
     "output_type": "display_data"
    }
   ],
   "source": [
    "try:\n",
    "    \n",
    "\n",
    "    fpr, tpr, thresholds = roc_curve(y_test, y_prob)\n",
    "    roc_auc = auc(fpr, tpr)\n",
    "\n",
    "    plt.figure(figsize=(6,5))\n",
    "    plt.plot(fpr, tpr, label=f\"ROC Curve (AUC = {roc_auc:.3f})\")\n",
    "    plt.plot([0,1], [0,1], linestyle=\"--\", color=\"gray\")\n",
    "    plt.title(\"ROC-AUC Curve for Logistic Regression\")\n",
    "    plt.xlabel(\"False Positive Rate\")\n",
    "    plt.ylabel(\"True Positive Rate\")\n",
    "    plt.legend(loc=\"lower right\")\n",
    "    plt.grid(True)\n",
    "    plt.show()\n",
    "except Exception as e:\n",
    "    print(e)\n"
   ]
  },
  {
   "cell_type": "markdown",
   "id": "319e109f",
   "metadata": {},
   "source": [
    "# Step 9: Visualize Sigmoid Function"
   ]
  },
  {
   "cell_type": "code",
   "execution_count": null,
   "id": "5c54f364-1934-476d-a238-7b487bff9404",
   "metadata": {},
   "outputs": [
    {
     "data": {
      "image/png": "[encoded data removed]",
      "text/plain": [
       "<Figure size 600x500 with 1 Axes>"
      ]
     },
     "metadata": {},
     "output_type": "display_data"
    }
   ],
   "source": [
    "try:\n",
    "    \n",
    "\n",
    "    def sigmoid(x):\n",
    "        return 1 / (1 + np.exp(-x))\n",
    "\n",
    "    x_values = np.linspace(-10, 10, 100)\n",
    "    y_values = sigmoid(x_values)\n",
    "\n",
    "    plt.figure(figsize=(6,5))\n",
    "    plt.plot(x_values, y_values, color='blue')\n",
    "    plt.title(\"Sigmoid Function\")\n",
    "    plt.xlabel(\"x\")\n",
    "    plt.ylabel(\"sigmoid(x)\")\n",
    "    plt.grid(True)\n",
    "    plt.show()\n",
    "    print(\"Sigmoid function plotted successfully.\")\n",
    "except Exception as e:\n",
    "    print(e)\n"
   ]
  }
 ],
 "metadata": {
  "kernelspec": {
   "display_name": "Python (jupyter-env)",
   "language": "python",
   "name": "jupyter-env"
  },
  "language_info": {
   "codemirror_mode": {
    "name": "ipython",
    "version": 3
   },
   "file_extension": ".py",
   "mimetype": "text/x-python",
   "name": "python",
   "nbconvert_exporter": "python",
   "pygments_lexer": "ipython3",
   "version": "3.9.6"
  }
 },
 "nbformat": 4,
 "nbformat_minor": 5
}
